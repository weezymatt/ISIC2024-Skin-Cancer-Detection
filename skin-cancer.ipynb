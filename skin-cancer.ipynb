{
 "cells": [
  {
   "cell_type": "markdown",
   "id": "88154a76",
   "metadata": {},
   "source": [
    "# ISIC 2024 Skin Cancer Detection with 3D-TBP | Kaggle\n",
    "Competition: https://www.kaggle.com/competitions/isic-2024-challenge"
   ]
  },
  {
   "cell_type": "markdown",
   "id": "7331efbd",
   "metadata": {},
   "source": [
    "## 1. Introduction"
   ]
  },
  {
   "cell_type": "markdown",
   "id": "7f1ada4b",
   "metadata": {},
   "source": [
    "fill later"
   ]
  },
  {
   "cell_type": "markdown",
   "id": "9a54f396",
   "metadata": {},
   "source": [
    "## 2. Libraries"
   ]
  },
  {
   "cell_type": "code",
   "execution_count": 1,
   "id": "d889dae9",
   "metadata": {},
   "outputs": [],
   "source": [
    "# Data Manipulation\n",
    "import pandas as pd\n",
    "import numpy as np\n",
    "import random\n",
    "import h5py\n",
    "\n",
    "# Data Viz\n",
    "import seaborn as sns\n",
    "import matplotlib.pyplot as plt\n",
    "\n",
    "# Misc\n",
    "import os\n",
    "import warnings\n",
    "warnings.simplefilter(action=\"ignore\", category=FutureWarning)\n",
    "\n",
    "# Deep Learning Modules...\n",
    "\n",
    "# Data\n",
    "df_train = pd.read_csv(\"train-metadata.csv\", dtype={'iddx_5': str, 'mel_mitotic_index': str})\n",
    "df_test = pd.read_csv(\"test-metadata.csv\", dtype={'iddx_5': str, 'mel_mitotic_index': str})"
   ]
  },
  {
   "cell_type": "code",
   "execution_count": 2,
   "id": "f884d5a5",
   "metadata": {},
   "outputs": [],
   "source": [
    "import torch"
   ]
  },
  {
   "cell_type": "markdown",
   "id": "ffc83410",
   "metadata": {},
   "source": [
    "## 3. Dataset\n",
    "Among the most employed initial diagnostic methods is the ABCDE criteria [3,6,7], which are described in Table 1. Nevertheless, while this simple, noninvasive, and expertise-based observational approach often leads to an accurate diagnosis of between **60** and **90% of malignant tumors** [3], there are scenarios where the certainty of cancer’s presence can only be ascertained through a biopsy.\n",
    "\n",
    "Citation: https://www.mdpi.com/2075-4418/14/4/454"
   ]
  },
  {
   "cell_type": "code",
   "execution_count": 3,
   "id": "9af3ca82",
   "metadata": {},
   "outputs": [
    {
     "data": {
      "text/html": [
       "<div>\n",
       "<style scoped>\n",
       "    .dataframe tbody tr th:only-of-type {\n",
       "        vertical-align: middle;\n",
       "    }\n",
       "\n",
       "    .dataframe tbody tr th {\n",
       "        vertical-align: top;\n",
       "    }\n",
       "\n",
       "    .dataframe thead th {\n",
       "        text-align: right;\n",
       "    }\n",
       "</style>\n",
       "<table border=\"1\" class=\"dataframe\">\n",
       "  <thead>\n",
       "    <tr style=\"text-align: right;\">\n",
       "      <th></th>\n",
       "      <th>isic_id</th>\n",
       "      <th>target</th>\n",
       "      <th>patient_id</th>\n",
       "      <th>age_approx</th>\n",
       "      <th>sex</th>\n",
       "      <th>anatom_site_general</th>\n",
       "      <th>clin_size_long_diam_mm</th>\n",
       "      <th>image_type</th>\n",
       "      <th>tbp_tile_type</th>\n",
       "      <th>tbp_lv_A</th>\n",
       "      <th>...</th>\n",
       "      <th>lesion_id</th>\n",
       "      <th>iddx_full</th>\n",
       "      <th>iddx_1</th>\n",
       "      <th>iddx_2</th>\n",
       "      <th>iddx_3</th>\n",
       "      <th>iddx_4</th>\n",
       "      <th>iddx_5</th>\n",
       "      <th>mel_mitotic_index</th>\n",
       "      <th>mel_thick_mm</th>\n",
       "      <th>tbp_lv_dnn_lesion_confidence</th>\n",
       "    </tr>\n",
       "  </thead>\n",
       "  <tbody>\n",
       "    <tr>\n",
       "      <th>0</th>\n",
       "      <td>ISIC_0015670</td>\n",
       "      <td>0</td>\n",
       "      <td>IP_1235828</td>\n",
       "      <td>60.0</td>\n",
       "      <td>male</td>\n",
       "      <td>lower extremity</td>\n",
       "      <td>3.04</td>\n",
       "      <td>TBP tile: close-up</td>\n",
       "      <td>3D: white</td>\n",
       "      <td>20.244422</td>\n",
       "      <td>...</td>\n",
       "      <td>NaN</td>\n",
       "      <td>Benign</td>\n",
       "      <td>Benign</td>\n",
       "      <td>NaN</td>\n",
       "      <td>NaN</td>\n",
       "      <td>NaN</td>\n",
       "      <td>NaN</td>\n",
       "      <td>NaN</td>\n",
       "      <td>NaN</td>\n",
       "      <td>97.517282</td>\n",
       "    </tr>\n",
       "    <tr>\n",
       "      <th>1</th>\n",
       "      <td>ISIC_0015845</td>\n",
       "      <td>0</td>\n",
       "      <td>IP_8170065</td>\n",
       "      <td>60.0</td>\n",
       "      <td>male</td>\n",
       "      <td>head/neck</td>\n",
       "      <td>1.10</td>\n",
       "      <td>TBP tile: close-up</td>\n",
       "      <td>3D: white</td>\n",
       "      <td>31.712570</td>\n",
       "      <td>...</td>\n",
       "      <td>IL_6727506</td>\n",
       "      <td>Benign</td>\n",
       "      <td>Benign</td>\n",
       "      <td>NaN</td>\n",
       "      <td>NaN</td>\n",
       "      <td>NaN</td>\n",
       "      <td>NaN</td>\n",
       "      <td>NaN</td>\n",
       "      <td>NaN</td>\n",
       "      <td>3.141455</td>\n",
       "    </tr>\n",
       "    <tr>\n",
       "      <th>2</th>\n",
       "      <td>ISIC_0015864</td>\n",
       "      <td>0</td>\n",
       "      <td>IP_6724798</td>\n",
       "      <td>60.0</td>\n",
       "      <td>male</td>\n",
       "      <td>posterior torso</td>\n",
       "      <td>3.40</td>\n",
       "      <td>TBP tile: close-up</td>\n",
       "      <td>3D: XP</td>\n",
       "      <td>22.575830</td>\n",
       "      <td>...</td>\n",
       "      <td>NaN</td>\n",
       "      <td>Benign</td>\n",
       "      <td>Benign</td>\n",
       "      <td>NaN</td>\n",
       "      <td>NaN</td>\n",
       "      <td>NaN</td>\n",
       "      <td>NaN</td>\n",
       "      <td>NaN</td>\n",
       "      <td>NaN</td>\n",
       "      <td>99.804040</td>\n",
       "    </tr>\n",
       "    <tr>\n",
       "      <th>3</th>\n",
       "      <td>ISIC_0015902</td>\n",
       "      <td>0</td>\n",
       "      <td>IP_4111386</td>\n",
       "      <td>65.0</td>\n",
       "      <td>male</td>\n",
       "      <td>anterior torso</td>\n",
       "      <td>3.22</td>\n",
       "      <td>TBP tile: close-up</td>\n",
       "      <td>3D: XP</td>\n",
       "      <td>14.242329</td>\n",
       "      <td>...</td>\n",
       "      <td>NaN</td>\n",
       "      <td>Benign</td>\n",
       "      <td>Benign</td>\n",
       "      <td>NaN</td>\n",
       "      <td>NaN</td>\n",
       "      <td>NaN</td>\n",
       "      <td>NaN</td>\n",
       "      <td>NaN</td>\n",
       "      <td>NaN</td>\n",
       "      <td>99.989998</td>\n",
       "    </tr>\n",
       "    <tr>\n",
       "      <th>4</th>\n",
       "      <td>ISIC_0024200</td>\n",
       "      <td>0</td>\n",
       "      <td>IP_8313778</td>\n",
       "      <td>55.0</td>\n",
       "      <td>male</td>\n",
       "      <td>anterior torso</td>\n",
       "      <td>2.73</td>\n",
       "      <td>TBP tile: close-up</td>\n",
       "      <td>3D: white</td>\n",
       "      <td>24.725520</td>\n",
       "      <td>...</td>\n",
       "      <td>NaN</td>\n",
       "      <td>Benign</td>\n",
       "      <td>Benign</td>\n",
       "      <td>NaN</td>\n",
       "      <td>NaN</td>\n",
       "      <td>NaN</td>\n",
       "      <td>NaN</td>\n",
       "      <td>NaN</td>\n",
       "      <td>NaN</td>\n",
       "      <td>70.442510</td>\n",
       "    </tr>\n",
       "  </tbody>\n",
       "</table>\n",
       "<p>5 rows × 55 columns</p>\n",
       "</div>"
      ],
      "text/plain": [
       "        isic_id  target  patient_id  age_approx   sex anatom_site_general  \\\n",
       "0  ISIC_0015670       0  IP_1235828        60.0  male     lower extremity   \n",
       "1  ISIC_0015845       0  IP_8170065        60.0  male           head/neck   \n",
       "2  ISIC_0015864       0  IP_6724798        60.0  male     posterior torso   \n",
       "3  ISIC_0015902       0  IP_4111386        65.0  male      anterior torso   \n",
       "4  ISIC_0024200       0  IP_8313778        55.0  male      anterior torso   \n",
       "\n",
       "   clin_size_long_diam_mm          image_type tbp_tile_type   tbp_lv_A  ...  \\\n",
       "0                    3.04  TBP tile: close-up     3D: white  20.244422  ...   \n",
       "1                    1.10  TBP tile: close-up     3D: white  31.712570  ...   \n",
       "2                    3.40  TBP tile: close-up        3D: XP  22.575830  ...   \n",
       "3                    3.22  TBP tile: close-up        3D: XP  14.242329  ...   \n",
       "4                    2.73  TBP tile: close-up     3D: white  24.725520  ...   \n",
       "\n",
       "    lesion_id  iddx_full  iddx_1  iddx_2  iddx_3  iddx_4  iddx_5  \\\n",
       "0         NaN     Benign  Benign     NaN     NaN     NaN     NaN   \n",
       "1  IL_6727506     Benign  Benign     NaN     NaN     NaN     NaN   \n",
       "2         NaN     Benign  Benign     NaN     NaN     NaN     NaN   \n",
       "3         NaN     Benign  Benign     NaN     NaN     NaN     NaN   \n",
       "4         NaN     Benign  Benign     NaN     NaN     NaN     NaN   \n",
       "\n",
       "   mel_mitotic_index  mel_thick_mm  tbp_lv_dnn_lesion_confidence  \n",
       "0                NaN           NaN                     97.517282  \n",
       "1                NaN           NaN                      3.141455  \n",
       "2                NaN           NaN                     99.804040  \n",
       "3                NaN           NaN                     99.989998  \n",
       "4                NaN           NaN                     70.442510  \n",
       "\n",
       "[5 rows x 55 columns]"
      ]
     },
     "execution_count": 3,
     "metadata": {},
     "output_type": "execute_result"
    }
   ],
   "source": [
    "df_train.head()"
   ]
  },
  {
   "cell_type": "code",
   "execution_count": 4,
   "id": "15a1b468",
   "metadata": {},
   "outputs": [
    {
     "data": {
      "text/html": [
       "<div>\n",
       "<style scoped>\n",
       "    .dataframe tbody tr th:only-of-type {\n",
       "        vertical-align: middle;\n",
       "    }\n",
       "\n",
       "    .dataframe tbody tr th {\n",
       "        vertical-align: top;\n",
       "    }\n",
       "\n",
       "    .dataframe thead th {\n",
       "        text-align: right;\n",
       "    }\n",
       "</style>\n",
       "<table border=\"1\" class=\"dataframe\">\n",
       "  <thead>\n",
       "    <tr style=\"text-align: right;\">\n",
       "      <th></th>\n",
       "      <th>isic_id</th>\n",
       "      <th>patient_id</th>\n",
       "      <th>age_approx</th>\n",
       "      <th>sex</th>\n",
       "      <th>anatom_site_general</th>\n",
       "      <th>clin_size_long_diam_mm</th>\n",
       "      <th>image_type</th>\n",
       "      <th>tbp_tile_type</th>\n",
       "      <th>tbp_lv_A</th>\n",
       "      <th>tbp_lv_Aext</th>\n",
       "      <th>...</th>\n",
       "      <th>tbp_lv_radial_color_std_max</th>\n",
       "      <th>tbp_lv_stdL</th>\n",
       "      <th>tbp_lv_stdLExt</th>\n",
       "      <th>tbp_lv_symm_2axis</th>\n",
       "      <th>tbp_lv_symm_2axis_angle</th>\n",
       "      <th>tbp_lv_x</th>\n",
       "      <th>tbp_lv_y</th>\n",
       "      <th>tbp_lv_z</th>\n",
       "      <th>attribution</th>\n",
       "      <th>copyright_license</th>\n",
       "    </tr>\n",
       "  </thead>\n",
       "  <tbody>\n",
       "    <tr>\n",
       "      <th>0</th>\n",
       "      <td>ISIC_0015657</td>\n",
       "      <td>IP_6074337</td>\n",
       "      <td>45.0</td>\n",
       "      <td>male</td>\n",
       "      <td>posterior torso</td>\n",
       "      <td>2.70</td>\n",
       "      <td>TBP tile: close-up</td>\n",
       "      <td>3D: XP</td>\n",
       "      <td>22.80433</td>\n",
       "      <td>20.007270</td>\n",
       "      <td>...</td>\n",
       "      <td>0.304827</td>\n",
       "      <td>1.281532</td>\n",
       "      <td>31.114600</td>\n",
       "      <td>0.479339</td>\n",
       "      <td>20</td>\n",
       "      <td>-155.06510</td>\n",
       "      <td>1511.222000</td>\n",
       "      <td>113.980100</td>\n",
       "      <td>Memorial Sloan Kettering Cancer Center</td>\n",
       "      <td>CC-BY</td>\n",
       "    </tr>\n",
       "    <tr>\n",
       "      <th>1</th>\n",
       "      <td>ISIC_0015729</td>\n",
       "      <td>IP_1664139</td>\n",
       "      <td>35.0</td>\n",
       "      <td>female</td>\n",
       "      <td>lower extremity</td>\n",
       "      <td>2.52</td>\n",
       "      <td>TBP tile: close-up</td>\n",
       "      <td>3D: XP</td>\n",
       "      <td>16.64867</td>\n",
       "      <td>9.657964</td>\n",
       "      <td>...</td>\n",
       "      <td>0.000000</td>\n",
       "      <td>1.271940</td>\n",
       "      <td>68.141071</td>\n",
       "      <td>0.426230</td>\n",
       "      <td>25</td>\n",
       "      <td>-112.36924</td>\n",
       "      <td>629.535889</td>\n",
       "      <td>-15.019287</td>\n",
       "      <td>Frazer Institute, The University of Queensland...</td>\n",
       "      <td>CC-BY</td>\n",
       "    </tr>\n",
       "    <tr>\n",
       "      <th>2</th>\n",
       "      <td>ISIC_0015740</td>\n",
       "      <td>IP_7142616</td>\n",
       "      <td>65.0</td>\n",
       "      <td>male</td>\n",
       "      <td>posterior torso</td>\n",
       "      <td>3.16</td>\n",
       "      <td>TBP tile: close-up</td>\n",
       "      <td>3D: XP</td>\n",
       "      <td>24.25384</td>\n",
       "      <td>19.937380</td>\n",
       "      <td>...</td>\n",
       "      <td>0.230742</td>\n",
       "      <td>1.080308</td>\n",
       "      <td>41.358640</td>\n",
       "      <td>0.366071</td>\n",
       "      <td>110</td>\n",
       "      <td>-84.29282</td>\n",
       "      <td>1303.978000</td>\n",
       "      <td>-28.576050</td>\n",
       "      <td>FNQH Cairns</td>\n",
       "      <td>CC-BY</td>\n",
       "    </tr>\n",
       "  </tbody>\n",
       "</table>\n",
       "<p>3 rows × 44 columns</p>\n",
       "</div>"
      ],
      "text/plain": [
       "        isic_id  patient_id  age_approx     sex anatom_site_general  \\\n",
       "0  ISIC_0015657  IP_6074337        45.0    male     posterior torso   \n",
       "1  ISIC_0015729  IP_1664139        35.0  female     lower extremity   \n",
       "2  ISIC_0015740  IP_7142616        65.0    male     posterior torso   \n",
       "\n",
       "   clin_size_long_diam_mm          image_type tbp_tile_type  tbp_lv_A  \\\n",
       "0                    2.70  TBP tile: close-up        3D: XP  22.80433   \n",
       "1                    2.52  TBP tile: close-up        3D: XP  16.64867   \n",
       "2                    3.16  TBP tile: close-up        3D: XP  24.25384   \n",
       "\n",
       "   tbp_lv_Aext  ...  tbp_lv_radial_color_std_max  tbp_lv_stdL  tbp_lv_stdLExt  \\\n",
       "0    20.007270  ...                     0.304827     1.281532       31.114600   \n",
       "1     9.657964  ...                     0.000000     1.271940       68.141071   \n",
       "2    19.937380  ...                     0.230742     1.080308       41.358640   \n",
       "\n",
       "   tbp_lv_symm_2axis  tbp_lv_symm_2axis_angle   tbp_lv_x     tbp_lv_y  \\\n",
       "0           0.479339                       20 -155.06510  1511.222000   \n",
       "1           0.426230                       25 -112.36924   629.535889   \n",
       "2           0.366071                      110  -84.29282  1303.978000   \n",
       "\n",
       "     tbp_lv_z                                        attribution  \\\n",
       "0  113.980100             Memorial Sloan Kettering Cancer Center   \n",
       "1  -15.019287  Frazer Institute, The University of Queensland...   \n",
       "2  -28.576050                                        FNQH Cairns   \n",
       "\n",
       "   copyright_license  \n",
       "0              CC-BY  \n",
       "1              CC-BY  \n",
       "2              CC-BY  \n",
       "\n",
       "[3 rows x 44 columns]"
      ]
     },
     "execution_count": 4,
     "metadata": {},
     "output_type": "execute_result"
    }
   ],
   "source": [
    "df_test.head()"
   ]
  },
  {
   "cell_type": "code",
   "execution_count": 5,
   "id": "cd98c954",
   "metadata": {},
   "outputs": [],
   "source": [
    "# Extremely unbalanced dataset!\n",
    "# 1: 393 patients\n",
    "# 0: 400666 patients\n",
    "\n",
    "# df_train.loc[df_train['target'] == 1]"
   ]
  },
  {
   "cell_type": "markdown",
   "id": "830d9628",
   "metadata": {},
   "source": [
    "| Criteria | Indicates | Description |\n",
    "| --- | --- | --- |\n",
    "| A | Asymmetry | The majority of illustrated melanomas exhibit an imbalance in their features |\n",
    "| B | Border | The borders of melanomas are usually uneven and may have irregular or scalloped edges |\n",
    "| C | Color | The presence of multiple colors within a melanoma is a warning sign |\n",
    "| D | Diameter | Melanomas tend to be larger, approximately the size of an eraser or around 6 mm in diameter or larger |\n",
    "| E | Evolution | This considers any alteration in the shape, size, color, or elevation of a skin spot as a warning sign of melanoma |"
   ]
  },
  {
   "cell_type": "code",
   "execution_count": 6,
   "id": "417896a5",
   "metadata": {},
   "outputs": [
    {
     "name": "stdout",
     "output_type": "stream",
     "text": [
      "1 isic_id\n",
      "2 target\n",
      "3 patient_id\n",
      "4 age_approx\n",
      "5 sex\n",
      "6 anatom_site_general\n",
      "7 clin_size_long_diam_mm\n",
      "8 image_type\n",
      "9 tbp_tile_type\n",
      "10 tbp_lv_A\n",
      "11 tbp_lv_Aext\n",
      "12 tbp_lv_B\n",
      "13 tbp_lv_Bext\n",
      "14 tbp_lv_C\n",
      "15 tbp_lv_Cext\n",
      "16 tbp_lv_H\n",
      "17 tbp_lv_Hext\n",
      "18 tbp_lv_L\n",
      "19 tbp_lv_Lext\n",
      "20 tbp_lv_areaMM2\n",
      "21 tbp_lv_area_perim_ratio\n",
      "22 tbp_lv_color_std_mean\n",
      "23 tbp_lv_deltaA\n",
      "24 tbp_lv_deltaB\n",
      "25 tbp_lv_deltaL\n",
      "26 tbp_lv_deltaLB\n",
      "27 tbp_lv_deltaLBnorm\n",
      "28 tbp_lv_eccentricity\n",
      "29 tbp_lv_location\n",
      "30 tbp_lv_location_simple\n",
      "31 tbp_lv_minorAxisMM\n",
      "32 tbp_lv_nevi_confidence\n",
      "33 tbp_lv_norm_border\n",
      "34 tbp_lv_norm_color\n",
      "35 tbp_lv_perimeterMM\n",
      "36 tbp_lv_radial_color_std_max\n",
      "37 tbp_lv_stdL\n",
      "38 tbp_lv_stdLExt\n",
      "39 tbp_lv_symm_2axis\n",
      "40 tbp_lv_symm_2axis_angle\n",
      "41 tbp_lv_x\n",
      "42 tbp_lv_y\n",
      "43 tbp_lv_z\n",
      "44 attribution\n",
      "45 copyright_license\n",
      "46 lesion_id\n",
      "47 iddx_full\n",
      "48 iddx_1\n",
      "49 iddx_2\n",
      "50 iddx_3\n",
      "51 iddx_4\n",
      "52 iddx_5\n",
      "53 mel_mitotic_index\n",
      "54 mel_thick_mm\n",
      "55 tbp_lv_dnn_lesion_confidence\n"
     ]
    }
   ],
   "source": [
    "idx = 1\n",
    "for column in df_train.columns:\n",
    "    print(idx, column)\n",
    "    idx += 1"
   ]
  },
  {
   "cell_type": "markdown",
   "id": "2505f70d",
   "metadata": {},
   "source": [
    "## 4. Exploratory Data Analysis"
   ]
  },
  {
   "cell_type": "markdown",
   "id": "26a31072",
   "metadata": {},
   "source": [
    "### 4.1 Disease sex distribution"
   ]
  },
  {
   "cell_type": "code",
   "execution_count": 7,
   "id": "f814ee01",
   "metadata": {},
   "outputs": [],
   "source": [
    "target_sex_count = df_train.groupby(['target', 'sex']).size()\n",
    "target_sex_count = pd.DataFrame(target_sex_count).reset_index()\n",
    "target_sex_count = target_sex_count.rename(columns={'target': \"status\", 0: 'count'})"
   ]
  },
  {
   "cell_type": "code",
   "execution_count": 8,
   "id": "fdcc7652",
   "metadata": {},
   "outputs": [
    {
     "data": {
      "image/png": "[encoded data removed]",
      "text/plain": [
       "<Figure size 1000x500 with 1 Axes>"
      ]
     },
     "metadata": {},
     "output_type": "display_data"
    }
   ],
   "source": [
    "# very large/very small values rep. using log-scale\n",
    "# resource: https://stackoverflow.com/questions/57722200/how-to-represent-very-large-and-a-very-small-values-in-a-plot\n",
    "sns.set_theme(style='whitegrid')\n",
    "\n",
    "fig = plt.figure(figsize=(10,5))\n",
    "ax = sns.barplot(target_sex_count, x='sex', y='count', hue='status', palette='colorblind', errorbar=None)\n",
    "ax.set_yscale(\"log\")\n",
    "_ = ax.set(title='Disease-Sex Distribution',xlabel=\"Sex\", ylabel=\"Count (log-scale)\")\n",
    "\n",
    "for container in ax.containers:\n",
    "    ax.bar_label(container, fontsize=10)\n",
    "\n",
    "ax.legend(title='Status', loc='upper right', labels=['Benign', 'Malignant'])\n",
    "plt.show()"
   ]
  },
  {
   "cell_type": "markdown",
   "id": "1a6d2017",
   "metadata": {},
   "source": [
    "### 4.2 Age Range Incidence Rates\n",
    "Note: The Skin Cancer Age Range is an approximation.\n",
    "\n",
    "Citation/URL: https://www.gentlecure.com/skin-cancer-age-range/#:~:text=Although%20patients%20older%20than%2075,by%20the%20age%20of%2070."
   ]
  },
  {
   "cell_type": "code",
   "execution_count": 9,
   "id": "25fef598",
   "metadata": {},
   "outputs": [],
   "source": [
    "def checkAgeRange(age):\n",
    "    age = int(age)\n",
    "    beg_digit = age - 5\n",
    "    last_digit = age - 1\n",
    "    return (f\"{beg_digit}-{last_digit}\")"
   ]
  },
  {
   "cell_type": "code",
   "execution_count": 10,
   "id": "a7a60497",
   "metadata": {},
   "outputs": [],
   "source": [
    "# Evidence — Based on this data there is weak evidence suggesting adults past 50 y/o \n",
    "# are more likely to develop skin cancer.\n",
    "\n",
    "target_age_approx = df_train.groupby(['target', 'age_approx']).size().to_frame('size').reset_index()\n",
    "total = target_age_approx['size'].sum()\n",
    "target_age_approx['percent'] = target_age_approx['size'] / total\n",
    "target_age_approx['age_range'] = target_age_approx['age_approx'].apply(checkAgeRange)"
   ]
  },
  {
   "cell_type": "code",
   "execution_count": 11,
   "id": "872d8e3b",
   "metadata": {},
   "outputs": [],
   "source": [
    "# target_age_approx"
   ]
  },
  {
   "cell_type": "code",
   "execution_count": 12,
   "id": "b97d800a",
   "metadata": {},
   "outputs": [],
   "source": [
    "benign = target_age_approx.loc[target_age_approx['target']==0]\n",
    "malignant = target_age_approx.loc[target_age_approx['target']==1]"
   ]
  },
  {
   "cell_type": "code",
   "execution_count": 13,
   "id": "44c1ca99",
   "metadata": {},
   "outputs": [
    {
     "data": {
      "image/png": "[encoded data removed]",
      "text/plain": [
       "<Figure size 1800x650 with 1 Axes>"
      ]
     },
     "metadata": {},
     "output_type": "display_data"
    },
    {
     "data": {
      "image/png": "[encoded data removed]",
      "text/plain": [
       "<Figure size 1800x600 with 1 Axes>"
      ]
     },
     "metadata": {},
     "output_type": "display_data"
    }
   ],
   "source": [
    "sns.set_theme(style='darkgrid')\n",
    "\n",
    "# Benign\n",
    "fig = plt.figure(figsize=(18, 6.5))\n",
    "ax = sns.barplot(benign, x='age_range', y='size', palette='Reds_r', errorbar='ci')\n",
    "_ = ax.set(title=\"Age Specific Incidence Rates (Benign)\", xlabel='Age', ylabel='# of patients')\n",
    "for container in ax.containers:\n",
    "    ax.bar_label(container, fontsize=10)\n",
    "\n",
    "# Malignant \n",
    "fig = plt.figure(figsize=(18, 6))\n",
    "ax = sns.barplot(malignant, x='age_range', y='size', palette='Reds_r', errorbar='ci')\n",
    "_ = ax.set(title=\"Age Specific Incidence Rates (Malignant)\", xlabel='Age', ylabel='# of patients')\n",
    "for container in ax.containers:\n",
    "    ax.bar_label(container, fontsize=10)\n",
    "\n",
    "plt.show()"
   ]
  },
  {
   "cell_type": "markdown",
   "id": "f4ae46e1",
   "metadata": {},
   "source": [
    "Notes: Look at age range 35-39. consider if the following drop in 40-44 is significant. let us consider how this service would benefit patients in preventive care and triage those who are in at risk. The above barplot showcases the confidence intervals for"
   ]
  },
  {
   "cell_type": "code",
   "execution_count": 14,
   "id": "f2355002",
   "metadata": {},
   "outputs": [
    {
     "data": {
      "text/plain": [
       "age_range_under50\n",
       "False    267697\n",
       "True      82640\n",
       "Name: count, dtype: int64"
      ]
     },
     "execution_count": 14,
     "metadata": {},
     "output_type": "execute_result"
    }
   ],
   "source": [
    "df_train['age_range_under50'] = None\n",
    "df_train.loc[df_train['age_approx']<50, 'age_range_under50'] = True\n",
    "df_train.loc[df_train['age_approx']>50, 'age_range_under50'] = False\n",
    "df_train['age_range_under50'].value_counts()"
   ]
  },
  {
   "cell_type": "code",
   "execution_count": 15,
   "id": "57e4e7fb",
   "metadata": {},
   "outputs": [],
   "source": [
    "age_range_count = df_train.groupby(['target', 'age_range_under50']).size()"
   ]
  },
  {
   "cell_type": "code",
   "execution_count": 16,
   "id": "c3e4f6c4",
   "metadata": {},
   "outputs": [
    {
     "data": {
      "text/plain": [
       "target  age_range_under50\n",
       "0       False                267386\n",
       "        True                  82588\n",
       "1       False                   311\n",
       "        True                     52\n",
       "dtype: int64"
      ]
     },
     "execution_count": 16,
     "metadata": {},
     "output_type": "execute_result"
    }
   ],
   "source": [
    "age_range_count"
   ]
  },
  {
   "cell_type": "markdown",
   "id": "c14b8f6e",
   "metadata": {},
   "source": [
    "### 4.4 Disease location distribution "
   ]
  },
  {
   "cell_type": "code",
   "execution_count": 17,
   "id": "47dc89da",
   "metadata": {},
   "outputs": [
    {
     "data": {
      "text/html": [
       "<div>\n",
       "<style scoped>\n",
       "    .dataframe tbody tr th:only-of-type {\n",
       "        vertical-align: middle;\n",
       "    }\n",
       "\n",
       "    .dataframe tbody tr th {\n",
       "        vertical-align: top;\n",
       "    }\n",
       "\n",
       "    .dataframe thead th {\n",
       "        text-align: right;\n",
       "    }\n",
       "</style>\n",
       "<table border=\"1\" class=\"dataframe\">\n",
       "  <thead>\n",
       "    <tr style=\"text-align: right;\">\n",
       "      <th></th>\n",
       "      <th>isic_id</th>\n",
       "      <th>target</th>\n",
       "      <th>patient_id</th>\n",
       "      <th>age_approx</th>\n",
       "      <th>sex</th>\n",
       "      <th>anatom_site_general</th>\n",
       "      <th>clin_size_long_diam_mm</th>\n",
       "      <th>image_type</th>\n",
       "      <th>tbp_tile_type</th>\n",
       "      <th>tbp_lv_A</th>\n",
       "      <th>...</th>\n",
       "      <th>iddx_full</th>\n",
       "      <th>iddx_1</th>\n",
       "      <th>iddx_2</th>\n",
       "      <th>iddx_3</th>\n",
       "      <th>iddx_4</th>\n",
       "      <th>iddx_5</th>\n",
       "      <th>mel_mitotic_index</th>\n",
       "      <th>mel_thick_mm</th>\n",
       "      <th>tbp_lv_dnn_lesion_confidence</th>\n",
       "      <th>age_range_under50</th>\n",
       "    </tr>\n",
       "  </thead>\n",
       "  <tbody>\n",
       "    <tr>\n",
       "      <th>0</th>\n",
       "      <td>ISIC_0015670</td>\n",
       "      <td>0</td>\n",
       "      <td>IP_1235828</td>\n",
       "      <td>60.0</td>\n",
       "      <td>male</td>\n",
       "      <td>lower extremity</td>\n",
       "      <td>3.04</td>\n",
       "      <td>TBP tile: close-up</td>\n",
       "      <td>3D: white</td>\n",
       "      <td>20.244422</td>\n",
       "      <td>...</td>\n",
       "      <td>Benign</td>\n",
       "      <td>Benign</td>\n",
       "      <td>NaN</td>\n",
       "      <td>NaN</td>\n",
       "      <td>NaN</td>\n",
       "      <td>NaN</td>\n",
       "      <td>NaN</td>\n",
       "      <td>NaN</td>\n",
       "      <td>97.517282</td>\n",
       "      <td>False</td>\n",
       "    </tr>\n",
       "    <tr>\n",
       "      <th>1</th>\n",
       "      <td>ISIC_0015845</td>\n",
       "      <td>0</td>\n",
       "      <td>IP_8170065</td>\n",
       "      <td>60.0</td>\n",
       "      <td>male</td>\n",
       "      <td>head/neck</td>\n",
       "      <td>1.10</td>\n",
       "      <td>TBP tile: close-up</td>\n",
       "      <td>3D: white</td>\n",
       "      <td>31.712570</td>\n",
       "      <td>...</td>\n",
       "      <td>Benign</td>\n",
       "      <td>Benign</td>\n",
       "      <td>NaN</td>\n",
       "      <td>NaN</td>\n",
       "      <td>NaN</td>\n",
       "      <td>NaN</td>\n",
       "      <td>NaN</td>\n",
       "      <td>NaN</td>\n",
       "      <td>3.141455</td>\n",
       "      <td>False</td>\n",
       "    </tr>\n",
       "    <tr>\n",
       "      <th>2</th>\n",
       "      <td>ISIC_0015864</td>\n",
       "      <td>0</td>\n",
       "      <td>IP_6724798</td>\n",
       "      <td>60.0</td>\n",
       "      <td>male</td>\n",
       "      <td>posterior torso</td>\n",
       "      <td>3.40</td>\n",
       "      <td>TBP tile: close-up</td>\n",
       "      <td>3D: XP</td>\n",
       "      <td>22.575830</td>\n",
       "      <td>...</td>\n",
       "      <td>Benign</td>\n",
       "      <td>Benign</td>\n",
       "      <td>NaN</td>\n",
       "      <td>NaN</td>\n",
       "      <td>NaN</td>\n",
       "      <td>NaN</td>\n",
       "      <td>NaN</td>\n",
       "      <td>NaN</td>\n",
       "      <td>99.804040</td>\n",
       "      <td>False</td>\n",
       "    </tr>\n",
       "    <tr>\n",
       "      <th>3</th>\n",
       "      <td>ISIC_0015902</td>\n",
       "      <td>0</td>\n",
       "      <td>IP_4111386</td>\n",
       "      <td>65.0</td>\n",
       "      <td>male</td>\n",
       "      <td>anterior torso</td>\n",
       "      <td>3.22</td>\n",
       "      <td>TBP tile: close-up</td>\n",
       "      <td>3D: XP</td>\n",
       "      <td>14.242329</td>\n",
       "      <td>...</td>\n",
       "      <td>Benign</td>\n",
       "      <td>Benign</td>\n",
       "      <td>NaN</td>\n",
       "      <td>NaN</td>\n",
       "      <td>NaN</td>\n",
       "      <td>NaN</td>\n",
       "      <td>NaN</td>\n",
       "      <td>NaN</td>\n",
       "      <td>99.989998</td>\n",
       "      <td>False</td>\n",
       "    </tr>\n",
       "    <tr>\n",
       "      <th>4</th>\n",
       "      <td>ISIC_0024200</td>\n",
       "      <td>0</td>\n",
       "      <td>IP_8313778</td>\n",
       "      <td>55.0</td>\n",
       "      <td>male</td>\n",
       "      <td>anterior torso</td>\n",
       "      <td>2.73</td>\n",
       "      <td>TBP tile: close-up</td>\n",
       "      <td>3D: white</td>\n",
       "      <td>24.725520</td>\n",
       "      <td>...</td>\n",
       "      <td>Benign</td>\n",
       "      <td>Benign</td>\n",
       "      <td>NaN</td>\n",
       "      <td>NaN</td>\n",
       "      <td>NaN</td>\n",
       "      <td>NaN</td>\n",
       "      <td>NaN</td>\n",
       "      <td>NaN</td>\n",
       "      <td>70.442510</td>\n",
       "      <td>False</td>\n",
       "    </tr>\n",
       "  </tbody>\n",
       "</table>\n",
       "<p>5 rows × 56 columns</p>\n",
       "</div>"
      ],
      "text/plain": [
       "        isic_id  target  patient_id  age_approx   sex anatom_site_general  \\\n",
       "0  ISIC_0015670       0  IP_1235828        60.0  male     lower extremity   \n",
       "1  ISIC_0015845       0  IP_8170065        60.0  male           head/neck   \n",
       "2  ISIC_0015864       0  IP_6724798        60.0  male     posterior torso   \n",
       "3  ISIC_0015902       0  IP_4111386        65.0  male      anterior torso   \n",
       "4  ISIC_0024200       0  IP_8313778        55.0  male      anterior torso   \n",
       "\n",
       "   clin_size_long_diam_mm          image_type tbp_tile_type   tbp_lv_A  ...  \\\n",
       "0                    3.04  TBP tile: close-up     3D: white  20.244422  ...   \n",
       "1                    1.10  TBP tile: close-up     3D: white  31.712570  ...   \n",
       "2                    3.40  TBP tile: close-up        3D: XP  22.575830  ...   \n",
       "3                    3.22  TBP tile: close-up        3D: XP  14.242329  ...   \n",
       "4                    2.73  TBP tile: close-up     3D: white  24.725520  ...   \n",
       "\n",
       "   iddx_full  iddx_1  iddx_2  iddx_3  iddx_4  iddx_5  mel_mitotic_index  \\\n",
       "0     Benign  Benign     NaN     NaN     NaN     NaN                NaN   \n",
       "1     Benign  Benign     NaN     NaN     NaN     NaN                NaN   \n",
       "2     Benign  Benign     NaN     NaN     NaN     NaN                NaN   \n",
       "3     Benign  Benign     NaN     NaN     NaN     NaN                NaN   \n",
       "4     Benign  Benign     NaN     NaN     NaN     NaN                NaN   \n",
       "\n",
       "   mel_thick_mm  tbp_lv_dnn_lesion_confidence  age_range_under50  \n",
       "0           NaN                     97.517282              False  \n",
       "1           NaN                      3.141455              False  \n",
       "2           NaN                     99.804040              False  \n",
       "3           NaN                     99.989998              False  \n",
       "4           NaN                     70.442510              False  \n",
       "\n",
       "[5 rows x 56 columns]"
      ]
     },
     "execution_count": 17,
     "metadata": {},
     "output_type": "execute_result"
    }
   ],
   "source": [
    "df_train.head()"
   ]
  },
  {
   "cell_type": "code",
   "execution_count": 18,
   "id": "f7aea72a",
   "metadata": {},
   "outputs": [
    {
     "data": {
      "text/plain": [
       "401059"
      ]
     },
     "execution_count": 18,
     "metadata": {},
     "output_type": "execute_result"
    }
   ],
   "source": [
    "df_train['tbp_lv_location'].value_counts().sum()"
   ]
  },
  {
   "cell_type": "code",
   "execution_count": 19,
   "id": "bbe6c243",
   "metadata": {},
   "outputs": [
    {
     "data": {
      "text/plain": [
       "395303"
      ]
     },
     "execution_count": 19,
     "metadata": {},
     "output_type": "execute_result"
    }
   ],
   "source": [
    "df_train['anatom_site_general'].value_counts().sum()"
   ]
  },
  {
   "cell_type": "markdown",
   "id": "664cbf6e",
   "metadata": {},
   "source": [
    "## 5. Image Processing\n",
    "- Load and normalize the training and test datasets using torchvision.\n",
    "- Normalization helps get data within a range and reduces the skewness which helps learn faster and better"
   ]
  },
  {
   "cell_type": "code",
   "execution_count": 20,
   "id": "f9254b55",
   "metadata": {},
   "outputs": [],
   "source": [
    "import torch\n",
    "import torchvision\n",
    "from torchvision import transforms"
   ]
  },
  {
   "cell_type": "code",
   "execution_count": null,
   "id": "79185798",
   "metadata": {},
   "outputs": [],
   "source": [
    "# create transformation\n",
    "train_transformation = transforms.Compose([\n",
    "    # resize image\n",
    "    transformation\n",
    "])"
   ]
  }
 ],
 "metadata": {
  "kernelspec": {
   "display_name": "Python 3 (ipykernel)",
   "language": "python",
   "name": "python3"
  },
  "language_info": {
   "codemirror_mode": {
    "name": "ipython",
    "version": 3
   },
   "file_extension": ".py",
   "mimetype": "text/x-python",
   "name": "python",
   "nbconvert_exporter": "python",
   "pygments_lexer": "ipython3",
   "version": "3.11.5"
  }
 },
 "nbformat": 4,
 "nbformat_minor": 5
}
